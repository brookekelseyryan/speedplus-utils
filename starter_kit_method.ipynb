{
 "cells": [
  {
   "cell_type": "code",
   "execution_count": 1,
   "metadata": {},
   "outputs": [
    {
     "name": "stdout",
     "output_type": "stream",
     "text": [
      "env: CUDA_DEVICE_ORDER=PCI_BUS_ID\n",
      "env: CUDA_VISIBLE_DEVICES=0\n"
     ]
    }
   ],
   "source": [
    "%env CUDA_DEVICE_ORDER=PCI_BUS_ID\n",
    "%env CUDA_VISIBLE_DEVICES=0\n",
    "\n",
    "# remember to check GPU not in use! watch -n1 nvidia-smi (ctrl+C to close)"
   ]
  },
  {
   "cell_type": "markdown",
   "metadata": {},
   "source": [
    "# Starter kit on *speed_plus_v1*\n",
    "\n",
    "This notebook presents a starter kit for the competition. \n",
    "\n",
    "This starter kit is inspired from [speed-utils](https://gitlab.com/EuropeanSpaceAgency/speed-utils)."
   ]
  },
  {
   "cell_type": "markdown",
   "metadata": {},
   "source": [
    "## Set up"
   ]
  },
  {
   "cell_type": "markdown",
   "metadata": {},
   "source": [
    "use_pytorch should be set to True to use pytorch, False to use TensorFlow"
   ]
  },
  {
   "cell_type": "code",
   "execution_count": 2,
   "metadata": {},
   "outputs": [],
   "source": [
    "use_pytorch = True"
   ]
  },
  {
   "cell_type": "markdown",
   "metadata": {},
   "source": [
    "### imports"
   ]
  },
  {
   "cell_type": "code",
   "execution_count": 3,
   "metadata": {},
   "outputs": [],
   "source": [
    "import os\n",
    "import sys\n",
    "import json\n",
    "import numpy as np\n",
    "\n",
    "from PIL import Image\n",
    "\n",
    "if use_pytorch:\n",
    "    import torch\n",
    "    from torchvision import transforms, models\n",
    "    from torch.utils.data import DataLoader\n",
    "else:\n",
    "    import tensorflow\n",
    "    from tensorflow.keras.applications.resnet50 import preprocess_input\n",
    "    from tensorflow.keras.preprocessing import image"
   ]
  },
  {
   "cell_type": "markdown",
   "metadata": {},
   "source": [
    "### Paths"
   ]
  },
  {
   "cell_type": "markdown",
   "metadata": {},
   "source": [
    "Set the path to the speed_plus dataset folder"
   ]
  },
  {
   "cell_type": "code",
   "execution_count": 12,
   "metadata": {},
   "outputs": [],
   "source": [
    "speed_root = './datasets/' #Path to the downloaded speed dataset"
   ]
  },
  {
   "cell_type": "markdown",
   "metadata": {},
   "source": [
    "### Initialize pytorch or tensorflow script"
   ]
  },
  {
   "cell_type": "markdown",
   "metadata": {},
   "source": [
    "Import the submission class that allows to create the submission file for the Kelvins platform\n"
   ]
  },
  {
   "cell_type": "markdown",
   "metadata": {},
   "source": [
    "Import Tensorflow or pytorch depeding on the parameter use_pytorch set above"
   ]
  },
  {
   "cell_type": "code",
   "execution_count": 13,
   "metadata": {},
   "outputs": [],
   "source": [
    "from submission import SubmissionWriter\n",
    "\n",
    "if use_pytorch:\n",
    "    #from utils import PyTorchSatellitePoseEstimationDataset\n",
    "    from pytorch_example import main #train_model, evaluate_model\n",
    "else:\n",
    "    #from keras_example import evaluate\n",
    "    #from utils import KerasDataGenerator\n",
    "    from keras_example import main"
   ]
  },
  {
   "cell_type": "markdown",
   "metadata": {},
   "source": [
    "### Training variables"
   ]
  },
  {
   "cell_type": "markdown",
   "metadata": {},
   "source": [
    "epochs fix the number of epochs for the training, batch_size refer to the number of images to load in the network at each iteration"
   ]
  },
  {
   "cell_type": "code",
   "execution_count": 14,
   "metadata": {},
   "outputs": [],
   "source": [
    "epochs = 2 #20 #Number of epochs for training\n",
    "batch_size = 64 #number of samples in a batch"
   ]
  },
  {
   "cell_type": "markdown",
   "metadata": {},
   "source": [
    "## Data reading"
   ]
  },
  {
   "cell_type": "markdown",
   "metadata": {},
   "source": [
    "Read the camera parameters"
   ]
  },
  {
   "cell_type": "code",
   "execution_count": 15,
   "metadata": {},
   "outputs": [
    {
     "data": {
      "text/plain": [
       "{'Nu': 1920,\n",
       " 'Nv': 1200,\n",
       " 'ppx': 5.86e-06,\n",
       " 'ppy': 5.86e-06,\n",
       " 'fx': 0.017513075965995915,\n",
       " 'fy': 0.017511673079277208,\n",
       " 'ccx': 960,\n",
       " 'ccy': 600,\n",
       " 'K': [[2988.5795163815555, 0, 960], [0, 2988.3401159176124, 600], [0, 0, 1]],\n",
       " 'dist_coeffs': [-0.22383016606510672,\n",
       "  0.5140979708910638,\n",
       "  -0.0006649961199834066,\n",
       "  -0.00021404771667484594,\n",
       "  -0.13124227429077406]}"
      ]
     },
     "execution_count": 15,
     "metadata": {},
     "output_type": "execute_result"
    }
   ],
   "source": [
    "with open(os.path.join(speed_root, 'camera.json'), 'r') as f:\n",
    "    camera_params = json.load(f)\n",
    "    \n",
    "camera_params"
   ]
  },
  {
   "cell_type": "markdown",
   "metadata": {},
   "source": [
    "## Train & evaluate a simple model"
   ]
  },
  {
   "cell_type": "markdown",
   "metadata": {},
   "source": [
    "Train et evaluate a simple model as example. For more technical data refer to \"keras_example.py\" or \"pytorch_example.py\" scripts."
   ]
  },
  {
   "cell_type": "markdown",
   "metadata": {},
   "source": [
    "Pytorch uses the architecture ResNet18, Tensorflow uses the architecture ResNet50"
   ]
  },
  {
   "cell_type": "code",
   "execution_count": 16,
   "metadata": {},
   "outputs": [
    {
     "name": "stdout",
     "output_type": "stream",
     "text": [
      "Epoch 1/2\n",
      "----------\n"
     ]
    },
    {
     "name": "stderr",
     "output_type": "stream",
     "text": [
      "C:\\conda\\envs\\torch\\lib\\site-packages\\torch\\optim\\lr_scheduler.py:129: UserWarning: Detected call of `lr_scheduler.step()` before `optimizer.step()`. In PyTorch 1.1.0 and later, you should call them in the opposite order: `optimizer.step()` before `lr_scheduler.step()`.  Failure to do this will result in PyTorch skipping the first value of the learning rate schedule. See more details at https://pytorch.org/docs/stable/optim.html#how-to-adjust-learning-rate\n",
      "  warnings.warn(\"Detected call of `lr_scheduler.step()` before `optimizer.step()`. \"\n"
     ]
    },
    {
     "name": "stdout",
     "output_type": "stream",
     "text": [
      "train Loss: 0.3240\n",
      "val Loss: 0.2025\n",
      "Epoch 2/2\n",
      "----------\n",
      "train Loss: 0.1992\n",
      "val Loss: 0.1807\n",
      "Submission saved to submission_pytorch_example.csv.\n"
     ]
    }
   ],
   "source": [
    "main(speed_root, epochs, batch_size)"
   ]
  },
  {
   "cell_type": "code",
   "execution_count": null,
   "metadata": {},
   "outputs": [],
   "source": []
  }
 ],
 "metadata": {
  "kernelspec": {
   "display_name": "Python 3",
   "language": "python",
   "name": "python3"
  },
  "language_info": {
   "codemirror_mode": {
    "name": "ipython",
    "version": 3
   },
   "file_extension": ".py",
   "mimetype": "text/x-python",
   "name": "python",
   "nbconvert_exporter": "python",
   "pygments_lexer": "ipython3",
   "version": "3.9.2"
  }
 },
 "nbformat": 4,
 "nbformat_minor": 4
}
